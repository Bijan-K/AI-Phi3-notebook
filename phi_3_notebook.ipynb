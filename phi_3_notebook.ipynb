{
  "nbformat": 4,
  "nbformat_minor": 0,
  "metadata": {
    "colab": {
      "provenance": [],
      "gpuType": "T4",
      "authorship_tag": "ABX9TyOR9QQEOkS7u7Gk2PTYmHKi",
      "include_colab_link": true
    },
    "kernelspec": {
      "name": "python3",
      "display_name": "Python 3"
    },
    "language_info": {
      "name": "python"
    },
    "accelerator": "GPU"
  },
  "cells": [
    {
      "cell_type": "markdown",
      "metadata": {
        "id": "view-in-github",
        "colab_type": "text"
      },
      "source": [
        "<a href=\"https://colab.research.google.com/github/Bijan-K/Phi3-notebook/blob/main/phi_3_notebook.ipynb\" target=\"_parent\"><img src=\"https://colab.research.google.com/assets/colab-badge.svg\" alt=\"Open In Colab\"/></a>"
      ]
    },
    {
      "cell_type": "code",
      "source": [
        "# @title Install Core Dependances\n",
        "!pip -q install torch transformers\n",
        "!pip -q install accelerate sentencepiece bitsandbytes einops tokenizers optimum"
      ],
      "metadata": {
        "id": "oaG4wI6W0QCJ",
        "colab": {
          "base_uri": "https://localhost:8080/"
        },
        "outputId": "b385ef41-7a55-4d6f-cb39-997ea26dccb6",
        "cellView": "form"
      },
      "execution_count": null,
      "outputs": [
        {
          "output_type": "stream",
          "name": "stdout",
          "text": [
            "\u001b[2K     \u001b[90m━━━━━━━━━━━━━━━━━━━━━━━━━━━━━━━━━━━━━━━━\u001b[0m \u001b[32m21.3/21.3 MB\u001b[0m \u001b[31m44.1 MB/s\u001b[0m eta \u001b[36m0:00:00\u001b[0m\n",
            "\u001b[2K     \u001b[90m━━━━━━━━━━━━━━━━━━━━━━━━━━━━━━━━━━━━━━━━\u001b[0m \u001b[32m302.6/302.6 kB\u001b[0m \u001b[31m2.1 MB/s\u001b[0m eta \u001b[36m0:00:00\u001b[0m\n",
            "\u001b[2K     \u001b[90m━━━━━━━━━━━━━━━━━━━━━━━━━━━━━━━━━━━━━━━━\u001b[0m \u001b[32m119.8/119.8 MB\u001b[0m \u001b[31m8.9 MB/s\u001b[0m eta \u001b[36m0:00:00\u001b[0m\n",
            "\u001b[2K     \u001b[90m━━━━━━━━━━━━━━━━━━━━━━━━━━━━━━━━━━━━━━━━\u001b[0m \u001b[32m43.2/43.2 kB\u001b[0m \u001b[31m4.3 MB/s\u001b[0m eta \u001b[36m0:00:00\u001b[0m\n",
            "\u001b[2K     \u001b[90m━━━━━━━━━━━━━━━━━━━━━━━━━━━━━━━━━━━━━━━━\u001b[0m \u001b[32m417.0/417.0 kB\u001b[0m \u001b[31m36.4 MB/s\u001b[0m eta \u001b[36m0:00:00\u001b[0m\n",
            "\u001b[2K     \u001b[90m━━━━━━━━━━━━━━━━━━━━━━━━━━━━━━━━━━━━━━━━\u001b[0m \u001b[32m46.0/46.0 kB\u001b[0m \u001b[31m6.4 MB/s\u001b[0m eta \u001b[36m0:00:00\u001b[0m\n",
            "\u001b[2K     \u001b[90m━━━━━━━━━━━━━━━━━━━━━━━━━━━━━━━━━━━━━━━━\u001b[0m \u001b[32m9.0/9.0 MB\u001b[0m \u001b[31m65.2 MB/s\u001b[0m eta \u001b[36m0:00:00\u001b[0m\n",
            "\u001b[2K     \u001b[90m━━━━━━━━━━━━━━━━━━━━━━━━━━━━━━━━━━━━━━━━\u001b[0m \u001b[32m542.0/542.0 kB\u001b[0m \u001b[31m49.6 MB/s\u001b[0m eta \u001b[36m0:00:00\u001b[0m\n",
            "\u001b[2K     \u001b[90m━━━━━━━━━━━━━━━━━━━━━━━━━━━━━━━━━━━━━━━━\u001b[0m \u001b[32m86.8/86.8 kB\u001b[0m \u001b[31m13.3 MB/s\u001b[0m eta \u001b[36m0:00:00\u001b[0m\n",
            "\u001b[2K     \u001b[90m━━━━━━━━━━━━━━━━━━━━━━━━━━━━━━━━━━━━━━━━\u001b[0m \u001b[32m116.3/116.3 kB\u001b[0m \u001b[31m17.8 MB/s\u001b[0m eta \u001b[36m0:00:00\u001b[0m\n",
            "\u001b[2K     \u001b[90m━━━━━━━━━━━━━━━━━━━━━━━━━━━━━━━━━━━━━━━━\u001b[0m \u001b[32m194.1/194.1 kB\u001b[0m \u001b[31m27.4 MB/s\u001b[0m eta \u001b[36m0:00:00\u001b[0m\n",
            "\u001b[2K     \u001b[90m━━━━━━━━━━━━━━━━━━━━━━━━━━━━━━━━━━━━━━━━\u001b[0m \u001b[32m134.8/134.8 kB\u001b[0m \u001b[31m19.6 MB/s\u001b[0m eta \u001b[36m0:00:00\u001b[0m\n",
            "\u001b[?25h"
          ]
        }
      ]
    },
    {
      "cell_type": "code",
      "execution_count": null,
      "metadata": {
        "id": "hgk_gvzS0Hq4",
        "cellView": "form"
      },
      "outputs": [],
      "source": [
        "# @title Install the Model and Translator\n",
        "import re # for toolcall later on\n",
        "import torch\n",
        "from transformers import AutoModelForCausalLM, AutoTokenizer, pipeline, AutoModelForSeq2SeqLM\n",
        "from optimum.bettertransformer import BetterTransformer\n",
        "\n",
        "torch.random.manual_seed(0)\n",
        "\n",
        "model_phi3 = AutoModelForCausalLM.from_pretrained(\n",
        "    \"microsoft/Phi-3-mini-128k-instruct\",\n",
        "    device_map=\"cuda\",\n",
        "    torch_dtype=\"auto\",\n",
        "    trust_remote_code=True,\n",
        ")\n",
        "tokenizer_phi3 = AutoTokenizer.from_pretrained(\"microsoft/Phi-3-mini-128k-instruct\")\n",
        "\n",
        "tokenizer_madlad = AutoTokenizer.from_pretrained(\n",
        "    \"google/madlad400-3b-mt\",\n",
        "    use_fast=True\n",
        ")\n",
        "\n",
        "model_hf = AutoModelForSeq2SeqLM.from_pretrained(\n",
        "    \"google/madlad400-3b-mt\",\n",
        "    torch_dtype=torch.bfloat16\n",
        ")\n",
        "\n",
        "model_madlad = BetterTransformer.transform(model_hf, keep_original=True)\n"
      ]
    },
    {
      "cell_type": "code",
      "source": [
        "# @title The Pipeline\n",
        "messages = [\n",
        "    {\"role\": \"user\", \"content\": \"\"\"you are a language model called stocki, and are tasked with chatting with the user and being helpful.\n",
        "Sometimes you have to read the documents they give you and explain it to them in bullet points and also answer questions regarding them.\n",
        "At other times you have to call tools with arguments extracted from users intent on finnical transitions on stock.\n",
        "Format your tool call like this: !toolcall: [<users intent>, <type of company>]\"\"\"},\n",
        "]\n",
        "\n",
        "pipe = pipeline(\n",
        "    \"text-generation\",\n",
        "    model=model_phi3,\n",
        "    tokenizer=tokenizer_phi3,\n",
        ")\n",
        "\n",
        "generation_args = {\n",
        "    \"max_new_tokens\": 500,\n",
        "    \"return_full_text\": False,\n",
        "    #\"temperature\": 0.0,\n",
        "    #\"do_sample\": False,\n",
        "}\n",
        "\n",
        "def translate_to_english(text):\n",
        "    text = \"<2en> \" + text\n",
        "\n",
        "    inputs = tokenizer_madlad(\n",
        "        text,\n",
        "        return_tensors=\"pt\"\n",
        "    )\n",
        "\n",
        "    outputs = model_madlad.generate(**inputs, max_new_tokens=1000)\n",
        "    text_translated = tokenizer_madlad.batch_decode(outputs, skip_special_tokens=True)\n",
        "\n",
        "    return text_translated[0]\n",
        "\n",
        "def translate_to_farsi(text):\n",
        "    text = \"<2fa> \" + text\n",
        "\n",
        "    inputs = tokenizer_madlad(\n",
        "        text,\n",
        "        return_tensors=\"pt\"\n",
        "    )\n",
        "\n",
        "    outputs = model_madlad.generate(**inputs, max_new_tokens=1000)\n",
        "    text_translated = tokenizer_madlad.batch_decode(outputs, skip_special_tokens=True)\n",
        "\n",
        "    return text_translated[0]\n",
        "\n",
        "\n",
        "def reset_session():\n",
        "  messages = [\n",
        "      {\"role\": \"user\", \"content\": \"\"\"you are a language model called stocki, and are tasked with chatting with the user and being helpful.\n",
        "  Sometimes you have to read the documents they give you and explain it to them in bullet points and also answer questions regarding them.\n",
        "  At other times you have to call tools with arguments extracted from users intent on finnical transitions on stock.\n",
        "  Keep your answer short if they are not asking you to explain.\n",
        "  Format your tool call like this: !toolcall: [<users intent>, <type of company>]\"\"\"},\n",
        "  ]\n",
        "\n",
        "def call_model_english(input_text):\n",
        "  messages.append({\"role\":\"user\", \"content\": f\"{input_text}\"})\n",
        "  output = pipe(messages, **generation_args)[0]['generated_text']\n",
        "  messages.append({\"role\":\"assisstant\", \"content\": f\"{output}\"})\n",
        "  print(output)\n",
        "  return output\n"
      ],
      "metadata": {
        "id": "5EUPYyns2es3",
        "cellView": "form"
      },
      "execution_count": null,
      "outputs": []
    },
    {
      "cell_type": "code",
      "source": [
        "# @title Text File\n",
        "text_file = \"Markets exhibit surprising optimism in response to the latest US inflation data. Major US and European indices surge to record highs, reflecting robust investor confidence. Likelihood of ECB rate cuts grows, with potential implementation as early as June. Invest like the big funds from the comfort of your home with our AI-powered ProPicks stock selection tool. Learn more here>> There's no remnant of April's widespread corrective movement on the major US and European indices in sight anymore.  Optimism from the demand side stemmed from Wednesday's US inflation data, aligning with market expectations yet breaking a streak of five consecutive readings above forecasts. It's noteworthy how the market decisively moved without any surprises, reflecting bullish determination to sustain the upward trajectory.  Concurrently, the prospect of the ECB outpacing its overseas counterpart in initiating a series of interest rate cuts is gaining traction.  A series of dovish remarks from European Central Bank officials, particularly Francois Villeroy de Galhau and Mario Centeno, hints at groundwork for a potential 25 basis points cut as early as June.  Let's take a look at three of the most important global indexes to assess their key trading levels at the moment.  S&P 500 Eyeing New All-Time Highs with a Target of at Least 5400 Points This week, the S&P 500 breached new historical highs, albeit marginally. Nevertheless, bullish sentiment suggests an appetite for considerably higher levels, implying a potential continuation of the upward trend with a target near the next significant level of 5400 points.\" # @param {type:\"string\"}"
      ],
      "metadata": {
        "cellView": "form",
        "id": "CCS5ExcHq9JZ"
      },
      "execution_count": null,
      "outputs": []
    },
    {
      "cell_type": "code",
      "source": [
        "call_model_english(f\"please explain the contents of this text: {text_file}\")"
      ],
      "metadata": {
        "colab": {
          "base_uri": "https://localhost:8080/",
          "height": 784
        },
        "id": "7L1m8yB53_QO",
        "outputId": "d733cf5a-392e-4e49-c679-aff3a3323b0d"
      },
      "execution_count": null,
      "outputs": [
        {
          "output_type": "stream",
          "name": "stderr",
          "text": [
            "/usr/local/lib/python3.10/dist-packages/transformers/generation/configuration_utils.py:492: UserWarning: `do_sample` is set to `False`. However, `temperature` is set to `0.0` -- this flag is only used in sample-based generation modes. You should set `do_sample=True` or unset `temperature`.\n",
            "  warnings.warn(\n"
          ]
        },
        {
          "output_type": "stream",
          "name": "stdout",
          "text": [
            " - Markets show optimism due to recent US inflation data.\n",
            "\n",
            "  - Major US and European stock indices hit record highs.\n",
            "\n",
            "  - Investor confidence is strong.\n",
            "\n",
            "- ECB considers rate cuts, possibly in June.\n",
            "\n",
            "  - Inflation data in the US aligns with market expectations.\n",
            "\n",
            "  - This is the first time in five readings above forecasts.\n",
            "\n",
            "- Market movement is decisive and bullish.\n",
            "\n",
            "  - No surprises in the market's response.\n",
            "\n",
            "  - Market aims to maintain the upward trend.\n",
            "\n",
            "- ECB officials hint at interest rate cuts.\n",
            "\n",
            "  - Francois Villeroy de Galhau and Mario Centeno suggest a cut.\n",
            "\n",
            "  - The ECB might act before its overseas counterparts.\n",
            "\n",
            "- S&P 500 index surpasses historical highs.\n",
            "\n",
            "  - The index marginally surpassed new highs this week.\n",
            "\n",
            "  - Bullish sentiment indicates a potential rise to at least 5400 points.\n",
            "\n",
            "\n",
            "If the user asks about using the ProPicks stock selection tool, the tool call would be:\n",
            "\n",
            "!toolcall: [<explore ProPicks tool>, <stock selection>]\n"
          ]
        },
        {
          "output_type": "execute_result",
          "data": {
            "text/plain": [
              "\" - Markets show optimism due to recent US inflation data.\\n\\n  - Major US and European stock indices hit record highs.\\n\\n  - Investor confidence is strong.\\n\\n- ECB considers rate cuts, possibly in June.\\n\\n  - Inflation data in the US aligns with market expectations.\\n\\n  - This is the first time in five readings above forecasts.\\n\\n- Market movement is decisive and bullish.\\n\\n  - No surprises in the market's response.\\n\\n  - Market aims to maintain the upward trend.\\n\\n- ECB officials hint at interest rate cuts.\\n\\n  - Francois Villeroy de Galhau and Mario Centeno suggest a cut.\\n\\n  - The ECB might act before its overseas counterparts.\\n\\n- S&P 500 index surpasses historical highs.\\n\\n  - The index marginally surpassed new highs this week.\\n\\n  - Bullish sentiment indicates a potential rise to at least 5400 points.\\n\\n\\nIf the user asks about using the ProPicks stock selection tool, the tool call would be:\\n\\n!toolcall: [<explore ProPicks tool>, <stock selection>]\""
            ],
            "application/vnd.google.colaboratory.intrinsic+json": {
              "type": "string"
            }
          },
          "metadata": {},
          "execution_count": 17
        }
      ]
    },
    {
      "cell_type": "markdown",
      "source": [],
      "metadata": {
        "id": "QBysAtrkKSpo"
      }
    },
    {
      "cell_type": "code",
      "source": [
        "# REGEX\n",
        "import re\n",
        "\n",
        "output= \"\"\"- Understand your interest in the electronics sector.\n",
        "\n",
        "- Explain the importance of researching and understanding the electronics division before investing.\n",
        "\n",
        "- Discuss the potential benefits and risks associated with investing in the electronics sector.\n",
        "\n",
        "\n",
        "If you're looking to get specific information or perform a transaction related to buying shares in the electronics division, I can assist with that. For instance, if you need real-time stock data or a platform to execute the purchase, I would format a tool call like this:\n",
        "\n",
        "!toolcall: [buy shares, electronics division]\"\"\"\n",
        "\n",
        "regex = r\"(!toolcall:.*\\n?)\"\n",
        "if re.search(regex, output):\n",
        "  match = re.search(regex, output)\n",
        "  print(f\"The command: {match.group(0)}\")\n"
      ],
      "metadata": {
        "colab": {
          "base_uri": "https://localhost:8080/"
        },
        "id": "7s3LSrjiI8Tf",
        "outputId": "e92ba02b-ef4e-49d4-fe39-e8f4530d5636"
      },
      "execution_count": null,
      "outputs": [
        {
          "output_type": "stream",
          "name": "stdout",
          "text": [
            "The command: !toolcall: [buy shares, electronics division]\n"
          ]
        }
      ]
    },
    {
      "cell_type": "code",
      "source": [
        "reset_session()"
      ],
      "metadata": {
        "id": "5NDgQ0I_rPN9"
      },
      "execution_count": null,
      "outputs": []
    }
  ]
}